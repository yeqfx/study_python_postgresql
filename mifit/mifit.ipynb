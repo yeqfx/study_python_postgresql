{
 "metadata": {
  "language_info": {
   "codemirror_mode": {
    "name": "ipython",
    "version": 3
   },
   "file_extension": ".py",
   "mimetype": "text/x-python",
   "name": "python",
   "nbconvert_exporter": "python",
   "pygments_lexer": "ipython3",
   "version": "3.9.5"
  },
  "orig_nbformat": 4,
  "kernelspec": {
   "name": "python3",
   "display_name": "Python 3.9.5 64-bit"
  },
  "interpreter": {
   "hash": "4cd7ab41f5fca4b9b44701077e38c5ffd31fe66a6cab21e0214b68d958d0e462"
  }
 },
 "nbformat": 4,
 "nbformat_minor": 2,
 "cells": [
  {
   "cell_type": "code",
   "execution_count": 1,
   "metadata": {},
   "outputs": [],
   "source": [
    "import time"
   ]
  },
  {
   "cell_type": "code",
   "execution_count": 2,
   "metadata": {},
   "outputs": [
    {
     "output_type": "execute_result",
     "data": {
      "text/plain": [
       "time.struct_time(tm_year=2020, tm_mon=6, tm_mday=16, tm_hour=5, tm_min=30, tm_sec=3, tm_wday=1, tm_yday=168, tm_isdst=0)"
      ]
     },
     "metadata": {},
     "execution_count": 2
    }
   ],
   "source": [
    "time.localtime(1592285403)"
   ]
  },
  {
   "cell_type": "code",
   "execution_count": 9,
   "metadata": {},
   "outputs": [
    {
     "output_type": "stream",
     "name": "stdout",
     "text": [
      "time.struct_time(tm_year=2020, tm_mon=6, tm_mday=16, tm_hour=5, tm_min=30, tm_sec=3, tm_wday=1, tm_yday=168, tm_isdst=0)\ntime.struct_time(tm_year=2020, tm_mon=6, tm_mday=13, tm_hour=6, tm_min=35, tm_sec=23, tm_wday=5, tm_yday=165, tm_isdst=0)\ntime.struct_time(tm_year=2020, tm_mon=6, tm_mday=11, tm_hour=12, tm_min=56, tm_sec=53, tm_wday=3, tm_yday=163, tm_isdst=0)\ntime.struct_time(tm_year=2020, tm_mon=6, tm_mday=5, tm_hour=3, tm_min=2, tm_sec=22, tm_wday=4, tm_yday=157, tm_isdst=0)\ntime.struct_time(tm_year=2020, tm_mon=5, tm_mday=27, tm_hour=2, tm_min=35, tm_sec=35, tm_wday=2, tm_yday=148, tm_isdst=0)\n"
     ]
    }
   ],
   "source": [
    "print(time.localtime(1592285403))\n",
    "print(time.localtime(1592030123))\n",
    "print(time.localtime(1591880213))\n",
    "print(time.localtime(1591326142))\n",
    "print(time.localtime(1590546935))"
   ]
  },
  {
   "cell_type": "code",
   "execution_count": null,
   "metadata": {},
   "outputs": [],
   "source": []
  }
 ]
}