{
 "metadata": {
  "language_info": {
   "codemirror_mode": {
    "name": "ipython",
    "version": 3
   },
   "file_extension": ".py",
   "mimetype": "text/x-python",
   "name": "python",
   "nbconvert_exporter": "python",
   "pygments_lexer": "ipython3",
   "version": "3.9.5"
  },
  "orig_nbformat": 4,
  "kernelspec": {
   "name": "python3",
   "display_name": "Python 3.9.5 64-bit"
  },
  "interpreter": {
   "hash": "4cd7ab41f5fca4b9b44701077e38c5ffd31fe66a6cab21e0214b68d958d0e462"
  }
 },
 "nbformat": 4,
 "nbformat_minor": 2,
 "cells": [
  {
   "cell_type": "code",
   "execution_count": 1,
   "metadata": {},
   "outputs": [],
   "source": [
    "import psql\n",
    "import pandas as pd"
   ]
  },
  {
   "source": [
    "dbName = 'testdb1'\n",
    "table = psql.Table(dbName)"
   ],
   "cell_type": "code",
   "metadata": {},
   "execution_count": 2,
   "outputs": [
    {
     "output_type": "stream",
     "name": "stdout",
     "text": [
      "Postgresql 접속 준비를 마쳤습니다...\n"
     ]
    }
   ]
  },
  {
   "cell_type": "code",
   "execution_count": 8,
   "metadata": {},
   "outputs": [
    {
     "output_type": "stream",
     "name": "stdout",
     "text": [
      "   board_pk                   title  \\\n0         1      Developver's essay   \n1         2  Why the earth is round   \n2         3             Coffee time   \n3         4  Chicken is inefficient   \n4         5          When bothering   \n\n                                         description   image_name  \\\n0  Perhaps the reason we develop is because of th...         None   \n1  I took a picture myself from space and saw tha...       er.pne   \n2  I had a vanilla latte this afternoon at the bl...  coffee.jpeg   \n3  This is because fried chicken is more expensiv...         None   \n4                    Let's get someone else to work.         None   \n\n  register_date likes  board_user  \n0    2020/05/02  None           1  \n1    2020/09/28  None           3  \n2    2020/07/13  None           2  \n3    2020/08/14  None           2  \n4    2020/06/22  None           1  \n"
     ]
    }
   ],
   "source": [
    "# tableName = 'board'\n",
    "df = pd.read_csv('post.csv',index_col=False)\n",
    "df = df.where(df.notnull(), None)\n",
    "print(df)\n",
    "# print(df.to_numpy())\n",
    "\n",
    "# table.insertMany(tableName, df)"
   ]
  },
  {
   "cell_type": "code",
   "execution_count": 5,
   "metadata": {},
   "outputs": [
    {
     "output_type": "stream",
     "name": "stdout",
     "text": [
      "PostgreSQL에 접속하고 있습니다............\n접속 성공!!!!!\nboard 테이블의 데이터 목록입니다.\n"
     ]
    },
    {
     "output_type": "error",
     "ename": "ProgrammingError",
     "evalue": "no results to fetch",
     "traceback": [
      "\u001b[0;31m---------------------------------------------------------------------------\u001b[0m",
      "\u001b[0;31mProgrammingError\u001b[0m                          Traceback (most recent call last)",
      "\u001b[0;32m/tmp/ipykernel_2534/313062483.py\u001b[0m in \u001b[0;36m<module>\u001b[0;34m\u001b[0m\n\u001b[1;32m      1\u001b[0m \u001b[0mtableName\u001b[0m \u001b[0;34m=\u001b[0m \u001b[0;34m'board'\u001b[0m\u001b[0;34m\u001b[0m\u001b[0;34m\u001b[0m\u001b[0m\n\u001b[0;32m----> 2\u001b[0;31m \u001b[0mtable\u001b[0m\u001b[0;34m.\u001b[0m\u001b[0mdeleteAll\u001b[0m\u001b[0;34m(\u001b[0m\u001b[0mtableName\u001b[0m\u001b[0;34m)\u001b[0m\u001b[0;34m\u001b[0m\u001b[0;34m\u001b[0m\u001b[0m\n\u001b[0m",
      "\u001b[0;32m/workspace/psql/psql.py\u001b[0m in \u001b[0;36mdeleteAll\u001b[0;34m(self, tableName)\u001b[0m\n\u001b[1;32m    297\u001b[0m             \u001b[0;32melse\u001b[0m\u001b[0;34m:\u001b[0m\u001b[0;34m\u001b[0m\u001b[0;34m\u001b[0m\u001b[0m\n\u001b[1;32m    298\u001b[0m                 \u001b[0mprint\u001b[0m\u001b[0;34m(\u001b[0m\u001b[0;34mf\"{tableName} 테이블의 데이터가 모두 삭제되었습니다.\"\u001b[0m\u001b[0;34m)\u001b[0m\u001b[0;34m\u001b[0m\u001b[0;34m\u001b[0m\u001b[0m\n\u001b[0;32m--> 299\u001b[0;31m                 \u001b[0;32mtry\u001b[0m\u001b[0;34m:\u001b[0m\u001b[0;34m\u001b[0m\u001b[0;34m\u001b[0m\u001b[0m\n\u001b[0m\u001b[1;32m    300\u001b[0m                     \u001b[0mcursor\u001b[0m\u001b[0;34m.\u001b[0m\u001b[0mfetchall\u001b[0m\u001b[0;34m(\u001b[0m\u001b[0;34m)\u001b[0m\u001b[0;34m\u001b[0m\u001b[0;34m\u001b[0m\u001b[0m\n\u001b[1;32m    301\u001b[0m                 \u001b[0;32mexcept\u001b[0m \u001b[0;34m(\u001b[0m\u001b[0mException\u001b[0m\u001b[0;34m,\u001b[0m \u001b[0mpsycopg2\u001b[0m\u001b[0;34m.\u001b[0m\u001b[0mProgrammingError\u001b[0m\u001b[0;34m)\u001b[0m \u001b[0;32mas\u001b[0m \u001b[0merr\u001b[0m\u001b[0;34m:\u001b[0m\u001b[0;34m\u001b[0m\u001b[0;34m\u001b[0m\u001b[0m\n",
      "\u001b[0;31mProgrammingError\u001b[0m: no results to fetch"
     ]
    }
   ],
   "source": [
    "tableName = 'board'\n",
    "table.deleteAll(tableName)"
   ]
  },
  {
   "cell_type": "code",
   "execution_count": 6,
   "metadata": {},
   "outputs": [
    {
     "output_type": "stream",
     "name": "stdout",
     "text": [
      "PostgreSQL에 접속하고 있습니다............\n접속 성공!!!!!\n---------------------------\n%%s,%%s,%%s,%%s,%%s,%%s,%%s\nboard_pk,title,description,image_name,register_date,likes,board_user\n7\nINSERT INTO board(board_pk,title,description,image_name,register_date,likes,board_user) VALUES(%s,%s,%s,%s,%s,%s,%s)\n[(1, \"Developver's essay\", 'Perhaps the reason we develop is because of the sense of accomplishment when we create something useful', None, '2020/05/02', None, 1), (2, 'Why the earth is round', 'I took a picture myself from space and saw that the earth is round', 'er.pne', '2020/09/28', None, 3), (3, 'Coffee time', 'I had a vanilla latte this afternoon at the blue signboard cafe on the boulevard.', 'coffee.jpeg', '2020/07/13', None, 2), (4, 'Chicken is inefficient', 'This is because fried chicken is more expensive than other chicken dishes.', None, '2020/08/14', None, 2), (5, 'When bothering', \"Let's get someone else to work.\", None, '2020/06/22', None, 1)]\n---------------------------\nboard 테이블에 데이터가 입력되었습니다.\n"
     ]
    }
   ],
   "source": [
    "tableName = 'board'\n",
    "df = pd.read_csv('post.csv',index_col=False)\n",
    "table.insertMany(tableName, df)"
   ]
  },
  {
   "cell_type": "code",
   "execution_count": 3,
   "metadata": {},
   "outputs": [
    {
     "output_type": "stream",
     "name": "stdout",
     "text": [
      "PostgreSQL에 접속하고 있습니다............\n접속 성공!!!!!\nboard 테이블의 데이터 목록입니다.\n[(1, 1, datetime.date(2020, 5, 2), \"Developver's essay\", 'Perhaps the reason we develop is because of the sense of accomplishment when we create something useful', None, None), (2, 3, datetime.date(2020, 9, 28), 'Why the earth is round', 'I took a picture myself from space and saw that the earth is round', None, 'er.pne'), (3, 2, datetime.date(2020, 7, 13), 'Coffee time', 'I had a vanilla latte this afternoon at the blue signboard cafe on the boulevard.', None, 'coffee.jpeg'), (4, 2, datetime.date(2020, 8, 14), 'Chicken is inefficient', 'This is because fried chicken is more expensive than other chicken dishes.', None, None), (5, 1, datetime.date(2020, 6, 22), 'When bothering', \"Let's get someone else to work.\", None, None)]\n"
     ]
    }
   ],
   "source": [
    "tableName = 'board'\n",
    "data = table.selectAll(tableName)"
   ]
  },
  {
   "cell_type": "code",
   "execution_count": 8,
   "metadata": {},
   "outputs": [
    {
     "output_type": "stream",
     "name": "stdout",
     "text": [
      "None\n"
     ]
    }
   ],
   "source": [
    "print(data)"
   ]
  },
  {
   "cell_type": "code",
   "execution_count": null,
   "metadata": {},
   "outputs": [],
   "source": []
  }
 ]
}